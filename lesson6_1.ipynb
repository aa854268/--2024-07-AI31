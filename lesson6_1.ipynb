{
 "cells": [
  {
   "cell_type": "code",
   "execution_count": 2,
   "metadata": {},
   "outputs": [
    {
     "name": "stdout",
     "output_type": "stream",
     "text": [
      "15,30的公因數是:\n",
      "1 3 5 15 "
     ]
    }
   ],
   "source": [
    "value1 = int(input(\"請輸入第1個數值:\"))\n",
    "value2 = int(input(\"請輸入第2個數值:\"))\n",
    "\n",
    "(max,min) = (value1,value2) if value1 > value2 else (value2,value1)\n",
    "print(f'{value1},{value2}的公因數是:')\n",
    "for n in range(1,min+1):\n",
    "    if max % n == 0 and min % n ==  0:\n",
    "        print(n,end=' ')"
   ]
  },
  {
   "cell_type": "code",
   "execution_count": 2,
   "metadata": {},
   "outputs": [
    {
     "name": "stdout",
     "output_type": "stream",
     "text": [
      "total=55\n",
      "程式結束\n"
     ]
    }
   ],
   "source": [
    "total = 0\n",
    "i = 1\n",
    "while i<=10:\n",
    "    total += i\n",
    "    i += 1\n",
    "print(f\"total={total}\\n程式結束\")"
   ]
  },
  {
   "cell_type": "code",
   "execution_count": 1,
   "metadata": {},
   "outputs": [
    {
     "name": "stdout",
     "output_type": "stream",
     "text": [
      "lee的bmi為23.87543252595156,為正常範圍\n",
      "應用程式結束\n"
     ]
    }
   ],
   "source": [
    "try:\n",
    "    name=str(input(\"請輸入姓名\"))\n",
    "    height=float(input('請輸入身高'))\n",
    "    weight=float(input('請輸入體重'))\n",
    "    bmi=weight/(((height*0.01))**2)\n",
    "    if bmi<18.5:\n",
    "        grade=\"體重過輕\"\n",
    "    elif bmi<24:\n",
    "        grade=\"正常範圍\"\n",
    "    elif bmi<27:\n",
    "        grade=\"過重\"\n",
    "    elif bmi<30:\n",
    "        grade=\"輕度肥胖\"\n",
    "    elif bmi<35:\n",
    "        grade=\"中度肥胖\"\n",
    "    elif bmi>=35:\n",
    "        grade=\"重度肥胖\"\n",
    "    print(f\"{name}的bmi為{bmi},為{grade}\")\n",
    "except ValueError:\n",
    "    print(\"格式錯誤\")\n",
    "else:\n",
    "    print(\"應用程式結束\")\n",
    "\n",
    "    while True:\n",
    "        stuff = input(\"請輸入q來決定是否要離開!\")\n",
    "        if stuff != \"q\":\n",
    "             name=str(input(\"請輸入姓名\"))\n",
    "             height=float(input('請輸入身高'))\n",
    "             weight=float(input('請輸入體重'))\n",
    "             bmi=weight/(((height*0.01))**2)\n",
    "        else:\n",
    "            break"
   ]
  }
 ],
 "metadata": {
  "kernelspec": {
   "display_name": "Python 3",
   "language": "python",
   "name": "python3"
  },
  "language_info": {
   "codemirror_mode": {
    "name": "ipython",
    "version": 3
   },
   "file_extension": ".py",
   "mimetype": "text/x-python",
   "name": "python",
   "nbconvert_exporter": "python",
   "pygments_lexer": "ipython3",
   "version": "3.11.9"
  }
 },
 "nbformat": 4,
 "nbformat_minor": 2
}
