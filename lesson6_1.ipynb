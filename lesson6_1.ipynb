{
 "cells": [
  {
   "cell_type": "code",
   "execution_count": null,
   "metadata": {},
   "outputs": [
    {
     "ename": "",
     "evalue": "",
     "output_type": "error",
     "traceback": [
      "\u001b[1;31m執行具有 '/bin/python3' 的儲存格需要 ipykernel 套件。\n",
      "\u001b[1;31mRun the following command to install 'ipykernel' into the Python environment. \n",
      "\u001b[1;31mCommand: '/bin/python3 -m pip install ipykernel -U --user --force-reinstall'"
     ]
    }
   ],
   "source": [
    "value1 = int(input(\"請輸入第1個數值:\"))\n",
    "value2 = int(input(\"請輸入第2個數值:\"))\n",
    "\n",
    "(max,min) = (value1,value2) if value1 > value2 else (value2,value1)\n",
    "print(f'{value1},{value2}的公因數是:')\n",
    "for n in range(1,min+1):\n",
    "    if max % n == 0 and min % n ==  0:\n",
    "        print(n,end=' ')"
   ]
  }
 ],
 "metadata": {
  "language_info": {
   "name": "python"
  }
 },
 "nbformat": 4,
 "nbformat_minor": 2
}
