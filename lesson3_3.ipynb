{
 "cells": [
  {
   "cell_type": "code",
   "execution_count": null,
   "metadata": {},
   "outputs": [],
   "source": [
    "kg_taiwan = float(input('請輸入台斤:'))\n",
    "kg = kg_taiwan*0.6\n",
    "print(str(kg_taiwan) +\"臺斤=\"+str(KG)+\"公斤\")"
   ]
  },
  {
   "cell_type": "code",
   "execution_count": null,
   "metadata": {},
   "outputs": [],
   "source": [
    "kg_taiwan = float(input('請輸入台斤:'))\n",
    "kg = kg_taiwan * 0.6\n",
    "#print(str(kg_taiwan) + \"台斤=\" + str(kg) + \"公斤\")\n",
    "print(f'{kg_taiwan}台斤={kg}公斤') #字串插補"
   ]
  }
 ],
 "metadata": {
  "language_info": {
   "name": "python"
  }
 },
 "nbformat": 4,
 "nbformat_minor": 2
}
