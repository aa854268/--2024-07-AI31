{
 "cells": [
  {
   "cell_type": "code",
   "execution_count": null,
   "metadata": {},
   "outputs": [],
   "source": [
    "kg_taiwan = float(input('請輸入台斤:'))\n",
    "kg = kg_taiwan*0.6\n",
    "print(str(kg_taiwan) +\"臺斤=\"+str(KG)+\"公斤\")"
   ]
  }
 ],
 "metadata": {
  "language_info": {
   "name": "python"
  }
 },
 "nbformat": 4,
 "nbformat_minor": 2
}
