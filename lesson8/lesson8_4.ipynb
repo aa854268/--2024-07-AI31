{
 "cells": [
  {
   "cell_type": "code",
   "execution_count": 3,
   "metadata": {},
   "outputs": [
    {
     "data": {
      "text/plain": [
       "__main__.person"
      ]
     },
     "execution_count": 3,
     "metadata": {},
     "output_type": "execute_result"
    }
   ],
   "source": [
    "class person():\n",
    "    pass\n",
    "\n",
    "p1=person()#預設初始化\n",
    "type(p1)\n",
    "p2=person()\n",
    "type(p2)"
   ]
  },
  {
   "cell_type": "code",
   "execution_count": 10,
   "metadata": {},
   "outputs": [
    {
     "name": "stdout",
     "output_type": "stream",
     "text": [
      "robert\n",
      "x8yy\n"
     ]
    }
   ],
   "source": [
    "class person():\n",
    "   def __init__(self,name:str):\n",
    "    self.name = name\n",
    "    \n",
    "p1=person(name='robert')#自訂的init\n",
    "print(p1.name)\n",
    "p2=person('x8yy')\n",
    "print(p2.name)"
   ]
  },
  {
   "cell_type": "code",
   "execution_count": 8,
   "metadata": {},
   "outputs": [
    {
     "name": "stdout",
     "output_type": "stream",
     "text": [
      "robert\n",
      "徐國堂\n"
     ]
    }
   ],
   "source": [
    "class Person():\n",
    "    def __init__(self,name:str):\n",
    "        self.name = name\n",
    "\n",
    "p1 = Person(name='robert') #自訂的init\n",
    "print(p1.name)\n",
    "p2 = Person('徐國堂')\n",
    "print(p2.name)"
   ]
  },
  {
   "cell_type": "code",
   "execution_count": 17,
   "metadata": {},
   "outputs": [
    {
     "ename": "AttributeError",
     "evalue": "'Person' object has no attribute 'description'",
     "output_type": "error",
     "traceback": [
      "\u001b[0;31m---------------------------------------------------------------------------\u001b[0m",
      "\u001b[0;31mAttributeError\u001b[0m                            Traceback (most recent call last)",
      "Cell \u001b[0;32mIn[17], line 9\u001b[0m\n\u001b[1;32m      6\u001b[0m     \u001b[38;5;28;01mreturn\u001b[39;00m \u001b[38;5;124mf\u001b[39m\u001b[38;5;124m'\u001b[39m\u001b[38;5;124m我的名字叫:\u001b[39m\u001b[38;5;132;01m{\u001b[39;00m\u001b[38;5;28mself\u001b[39m\u001b[38;5;241m.\u001b[39mname\u001b[38;5;132;01m}\u001b[39;00m\u001b[38;5;124m'\u001b[39m\n\u001b[1;32m      8\u001b[0m p1 \u001b[38;5;241m=\u001b[39m Person(name\u001b[38;5;241m=\u001b[39m\u001b[38;5;124m'\u001b[39m\u001b[38;5;124mrobert\u001b[39m\u001b[38;5;124m'\u001b[39m) \u001b[38;5;66;03m#自訂的init\u001b[39;00m\n\u001b[0;32m----> 9\u001b[0m \u001b[38;5;28mprint\u001b[39m(\u001b[43mp1\u001b[49m\u001b[38;5;241;43m.\u001b[39;49m\u001b[43mdescription\u001b[49m())\n\u001b[1;32m     10\u001b[0m p2 \u001b[38;5;241m=\u001b[39m Person(\u001b[38;5;124m'\u001b[39m\u001b[38;5;124m徐國堂\u001b[39m\u001b[38;5;124m'\u001b[39m)\n\u001b[1;32m     11\u001b[0m \u001b[38;5;28mprint\u001b[39m(p2\u001b[38;5;241m.\u001b[39mdescription())\n",
      "\u001b[0;31mAttributeError\u001b[0m: 'Person' object has no attribute 'description'"
     ]
    }
   ],
   "source": [
    "class Person():\n",
    "    def __init__(self,name:str):\n",
    "        self.name = name\n",
    "\n",
    "def description(self)->str:#實體方法\n",
    "    return f'我的名字叫:{self.name}'\n",
    "\n",
    "p1 = Person(name='robert') #自訂的init\n",
    "print(p1.description())\n",
    "p2 = Person('徐國堂')\n",
    "print(p2.description())"
   ]
  },
  {
   "cell_type": "code",
   "execution_count": 14,
   "metadata": {},
   "outputs": [
    {
     "name": "stdout",
     "output_type": "stream",
     "text": [
      "我的名字叫:robert\n",
      "我的名字叫:徐國堂\n"
     ]
    }
   ],
   "source": [
    "class Person():\n",
    "    def __init__(self,name:str):\n",
    "        self.name = name\n",
    "\n",
    "    def description(self)->str: #實體方法\n",
    "        return f'我的名字叫:{self.name}'\n",
    "\n",
    "p1 = Person(name='robert') #自訂的init\n",
    "print(p1.description())\n",
    "p2 = Person('徐國堂')\n",
    "print(p2.description())"
   ]
  },
  {
   "cell_type": "code",
   "execution_count": null,
   "metadata": {},
   "outputs": [],
   "source": [
    "class Person():\n",
    "    def __init__(self,name:str,c:int,e:ine):\n",
    "        self.name = name\n",
    "        self.chinese =c\n",
    "        self.english = e            \n",
    "    def sum(self)->int: \n",
    "        return self.chinese + self.english\n",
    "def sum(self)->int: \n",
    "        return self.chinese + self.english\n",
    "p1 = Person(name='robert') \n",
    "print(p1.description())\n",
    "p2 = Person('徐國堂')\n",
    "print(p2.description())"
   ]
  },
  {
   "cell_type": "code",
   "execution_count": 18,
   "metadata": {},
   "outputs": [
    {
     "name": "stdout",
     "output_type": "stream",
     "text": [
      "我的名字叫:robert\n",
      "國文分數:70\n",
      "英文分數:95\n",
      "我的總分:165\n",
      "我的平均:82.5\n",
      "我的名字叫:徐國堂\n",
      "國文分數:86\n",
      "英文分數:92\n",
      "我的總分:178\n",
      "我的平均:89.0\n"
     ]
    }
   ],
   "source": [
    "class Person():\n",
    "    def __init__(self,name:str,c:int,e:int):\n",
    "        self.name = name\n",
    "        self.chinese = c\n",
    "        self.english = e\n",
    "    \n",
    "    def sum(self)->int:\n",
    "        return self.chinese + self.english\n",
    "    \n",
    "    def average(self)->float:\n",
    "        return self.sum() / 2.0\n",
    "\n",
    "    def description(self)->str: #實體方法\n",
    "        return f'我的名字叫:{self.name}\\n國文分數:{self.chinese}\\n英文分數:{self.english}'\n",
    "\n",
    "p1 = Person(name='robert',e=95,c=70) #自訂的init\n",
    "print(p1.description())\n",
    "print(f'我的總分:{p1.sum()}')\n",
    "print(f'我的平均:{p1.average()}')\n",
    "p2 = Person('徐國堂',86,92)\n",
    "print(p2.description())\n",
    "print(f'我的總分:{p2.sum()}')\n",
    "print(f'我的平均:{p2.average()}')"
   ]
  }
 ],
 "metadata": {
  "kernelspec": {
   "display_name": "Python 3",
   "language": "python",
   "name": "python3"
  },
  "language_info": {
   "codemirror_mode": {
    "name": "ipython",
    "version": 3
   },
   "file_extension": ".py",
   "mimetype": "text/x-python",
   "name": "python",
   "nbconvert_exporter": "python",
   "pygments_lexer": "ipython3",
   "version": "3.11.9"
  }
 },
 "nbformat": 4,
 "nbformat_minor": 2
}
